{
 "cells": [
  {
   "cell_type": "markdown",
   "metadata": {},
   "source": [
    "## 1. Loading the data\n",
    "Take reference seq and use translate tool to get sequence.\n",
    "\n",
    "https://www.mavedb.org/#/score-sets/urn:mavedb:00000086-a-1 "
   ]
  },
  {
   "cell_type": "code",
   "execution_count": 10,
   "metadata": {},
   "outputs": [],
   "source": [
    "wild_type_seq = \"MSIQHFRVAL IPFFAAFCLP VFAHPETLVK VKDAEDQLGA RVGYIELDLN SGKILESFRP EERFPMMSTF KVLLCGAVLS RVDAGQEQLG RRIHYSQNDL VEYSPVTEKH LTDGMTVREL CSAAITMSDN TAANLLLTTI GGPKELTAFL HNMGDHVTRL DRWEPELNEA IPNDERDTTM PAAMATTLRK LLTGELLTLA SRQQLIDWME ADKVAGPLLR SALPAGWFIA DKSGAGERGS RGIIAALGPD GKPSRIVVIY TTGSQATMDE RNRQIAEIGA SLIKHW\".replace(\" \", \"\")"
   ]
  },
  {
   "cell_type": "code",
   "execution_count": 27,
   "metadata": {},
   "outputs": [],
   "source": [
    "import Bio.SeqUtils as bio\n",
    "import pandas as pd\n",
    "import re\n",
    "\n",
    "csv = pd.read_csv(\"E6.csv\", usecols=[\"hgvs_pro\",\"score\"])\n",
    "X_seqs = []\n",
    "y = []\n",
    "for index, row in csv.iterrows():\n",
    "    end = row[\"hgvs_pro\"][-3:]\n",
    "    position = int(re.findall(r'\\d+', row[\"hgvs_pro\"])[0])-1\n",
    "    mutant_seq = wild_type_seq\n",
    "    mutant_seq = list(mutant_seq)\n",
    "    mutant_seq[position] = bio.IUPACData.protein_letters_3to1[end]\n",
    "    if not pd.isna(row[\"score\"]):\n",
    "        X_seqs.append(mutant_seq)\n",
    "        y.append(float(row[\"score\"]))"
   ]
  },
  {
   "cell_type": "code",
   "execution_count": 43,
   "metadata": {},
   "outputs": [
    {
     "ename": "ValueError",
     "evalue": "too many dimensions 'str'",
     "output_type": "error",
     "traceback": [
      "\u001b[0;31m---------------------------------------------------------------------------\u001b[0m",
      "\u001b[0;31mValueError\u001b[0m                                Traceback (most recent call last)",
      "Cell \u001b[0;32mIn[43], line 3\u001b[0m\n\u001b[1;32m      1\u001b[0m \u001b[38;5;28;01mfrom\u001b[39;00m \u001b[38;5;21;01mtorch\u001b[39;00m\u001b[38;5;21;01m.\u001b[39;00m\u001b[38;5;21;01mnn\u001b[39;00m\u001b[38;5;21;01m.\u001b[39;00m\u001b[38;5;21;01mfunctional\u001b[39;00m \u001b[38;5;28;01mimport\u001b[39;00m one_hot\n\u001b[1;32m      2\u001b[0m \u001b[38;5;28;01mimport\u001b[39;00m \u001b[38;5;21;01mtorch\u001b[39;00m\n\u001b[0;32m----> 3\u001b[0m X_seqs \u001b[38;5;241m=\u001b[39m \u001b[43mtorch\u001b[49m\u001b[38;5;241;43m.\u001b[39;49m\u001b[43mtensor\u001b[49m\u001b[43m(\u001b[49m\u001b[43mX_seqs\u001b[49m\u001b[43m)\u001b[49m\n\u001b[1;32m      4\u001b[0m one_hot(X_seqs)\n",
      "\u001b[0;31mValueError\u001b[0m: too many dimensions 'str'"
     ]
    }
   ],
   "source": [
    "from torch.nn.functional import one_hot\n",
    "import torch\n",
    "X_seqs = torch.tensor(X_seqs)\n",
    "one_hot(X_seqs)"
   ]
  }
 ],
 "metadata": {
  "kernelspec": {
   "display_name": ".venv",
   "language": "python",
   "name": "python3"
  },
  "language_info": {
   "codemirror_mode": {
    "name": "ipython",
    "version": 3
   },
   "file_extension": ".py",
   "mimetype": "text/x-python",
   "name": "python",
   "nbconvert_exporter": "python",
   "pygments_lexer": "ipython3",
   "version": "3.10.12"
  }
 },
 "nbformat": 4,
 "nbformat_minor": 2
}
